{
 "cells": [
  {
   "cell_type": "code",
   "execution_count": 2,
   "metadata": {},
   "outputs": [
    {
     "name": "stdout",
     "output_type": "stream",
     "text": [
      "WARNING:tensorflow:From C:\\Users\\User\\Anaconda3\\envs\\env1\\lib\\site-packages\\tensorflow_core\\python\\ops\\nn_impl.py:183: where (from tensorflow.python.ops.array_ops) is deprecated and will be removed in a future version.\n",
      "Instructions for updating:\n",
      "Use tf.where in 2.0, which has the same broadcast rule as np.where\n",
      "loss 값은 : 1.7364810705184937\n",
      "loss 값은 : 0.49964433908462524\n",
      "loss 값은 : 0.4453938603401184\n",
      "loss 값은 : 0.40585365891456604\n",
      "loss 값은 : 0.3755315840244293\n",
      "loss 값은 : 0.3516620099544525\n",
      "loss 값은 : 0.33245521783828735\n",
      "loss 값은 : 0.31668907403945923\n",
      "loss 값은 : 0.3035109341144562\n",
      "loss 값은 : 0.2923164367675781\n",
      "0.85714287\n",
      "[[0.75770706]]\n"
     ]
    }
   ],
   "source": [
    "import tensorflow as tf\n",
    "\n",
    "x_data = [[10,0], [8,1], [3,3], [2,3], [5,1], [2,0], [1,0]]\n",
    "y_data = [[1], [1], [1], [1], [0], [0], [0]]\n",
    "\n",
    "\n",
    "X = tf.placeholder(shape=[None,2], dtype=tf.float32)\n",
    "Y = tf.placeholder(shape=[None,1], dtype=tf.float32)\n",
    "\n",
    "\n",
    "W = tf.Variable(tf.random_normal([2, 1]), name=\"weight\")\n",
    "b = tf.Variable(tf.random_normal([1]), name=\"bias\")\n",
    "\n",
    "\n",
    "logit = tf.matmul(X, W) + b\n",
    "H = tf.sigmoid(logit)\n",
    "\n",
    "\n",
    "loss = tf.reduce_mean(tf.nn.sigmoid_cross_entropy_with_logits(logits=logit, labels=Y))\n",
    "\n",
    "train = tf.train.GradientDescentOptimizer(learning_rate=0.01).minimize(loss)\n",
    "\n",
    "sess = tf.Session()\n",
    "sess.run(tf.global_variables_initializer())\n",
    "\n",
    "for step in range(3000):\n",
    "    tmp_train, loss_val = sess.run([train, loss], feed_dict={X:x_data, Y:y_data})\n",
    "    if step % 300 == 0:\n",
    "        print(\"loss 값은 : {}\".format(loss_val))\n",
    "        \n",
    "        \n",
    "predict = tf.cast(H>0.5, dtype=tf.float32)\n",
    "correct = tf.equal(predict, Y)\n",
    "accuracy = tf.reduce_mean(tf.cast(correct, dtype=tf.float32))\n",
    "\n",
    "print(sess.run(accuracy, feed_dict={X:x_data, Y:y_data}))\n",
    "\n",
    "print(sess.run(H, feed_dict={X: [[3,2]]}))\n",
    "\n"
   ]
  }
 ],
 "metadata": {
  "kernelspec": {
   "display_name": "Python 3",
   "language": "python",
   "name": "python3"
  },
  "language_info": {
   "codemirror_mode": {
    "name": "ipython",
    "version": 3
   },
   "file_extension": ".py",
   "mimetype": "text/x-python",
   "name": "python",
   "nbconvert_exporter": "python",
   "pygments_lexer": "ipython3",
   "version": "3.6.10"
  }
 },
 "nbformat": 4,
 "nbformat_minor": 4
}
